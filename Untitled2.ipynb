{
 "cells": [
  {
   "cell_type": "code",
   "execution_count": 1,
   "id": "12a18717",
   "metadata": {
    "ExecuteTime": {
     "end_time": "2023-03-16T16:47:57.461698Z",
     "start_time": "2023-03-16T16:47:54.797133Z"
    }
   },
   "outputs": [
    {
     "name": "stderr",
     "output_type": "stream",
     "text": [
      "2023-03-16 22:17:54.874917: I tensorflow/core/platform/cpu_feature_guard.cc:193] This TensorFlow binary is optimized with oneAPI Deep Neural Network Library (oneDNN) to use the following CPU instructions in performance-critical operations:  AVX2 AVX512F AVX512_VNNI FMA\n",
      "To enable them in other operations, rebuild TensorFlow with the appropriate compiler flags.\n"
     ]
    }
   ],
   "source": [
    "import tensorflow as tf\n",
    "import cv2\n",
    "import numpy as np\n",
    "import pandas as pd\n",
    "import matplotlib.pyplot as plt"
   ]
  },
  {
   "cell_type": "code",
   "execution_count": 2,
   "id": "b1ff0f66",
   "metadata": {
    "ExecuteTime": {
     "end_time": "2023-03-16T16:47:57.474610Z",
     "start_time": "2023-03-16T16:47:57.463972Z"
    }
   },
   "outputs": [],
   "source": [
    "from tensorflow.keras.models import load_model\n",
    "import tensorflow as tf\n",
    "from tensorflow.keras import Model\n",
    "from tensorflow.keras.models import Sequential\n",
    "from tensorflow.keras.layers import Dense, BatchNormalization, InputLayer, LeakyReLU, Input, concatenate, AveragePooling1D, Reshape, ReLU, ZeroPadding1D,Bidirectional\n",
    "from tensorflow.keras.layers import LSTM, GRU, Conv1D, MaxPooling1D, Flatten, Dropout, LayerNormalization, SpatialDropout1D, Concatenate, Add, TimeDistributed, ReLU\n",
    "from tensorflow.keras.optimizers import Adam, RMSprop\n",
    "from tensorflow.keras.regularizers import L1L2\n",
    "from tensorflow.keras.initializers import HeNormal, HeUniform\n",
    "from tensorflow.keras import backend as K\n",
    "from tensorflow.keras.callbacks import Callback"
   ]
  },
  {
   "cell_type": "code",
   "execution_count": 3,
   "id": "0041bb97",
   "metadata": {
    "ExecuteTime": {
     "end_time": "2023-03-16T16:47:57.479249Z",
     "start_time": "2023-03-16T16:47:57.475909Z"
    }
   },
   "outputs": [],
   "source": [
    "def root_mean_squared_error(y_true, y_pred):\n",
    "        return K.sqrt(K.mean(K.square(y_pred - y_true))) \n",
    "\n",
    "class Epochs(Callback):\n",
    "    def on_epoch_end(self, epoch, logs=None):\n",
    "        if((int(epoch+1) % 5) == 0) or (epoch == 0) :\n",
    "              print(f\"Epoch {epoch+1} \\n  Loss: {np.round(logs['loss'],5)}\")"
   ]
  },
  {
   "cell_type": "code",
   "execution_count": 4,
   "id": "d697dc96",
   "metadata": {
    "ExecuteTime": {
     "end_time": "2023-03-16T16:47:58.338777Z",
     "start_time": "2023-03-16T16:47:57.482335Z"
    }
   },
   "outputs": [
    {
     "name": "stderr",
     "output_type": "stream",
     "text": [
      "2023-03-16 22:17:57.531039: I tensorflow/core/platform/cpu_feature_guard.cc:193] This TensorFlow binary is optimized with oneAPI Deep Neural Network Library (oneDNN) to use the following CPU instructions in performance-critical operations:  AVX2 AVX512F AVX512_VNNI FMA\n",
      "To enable them in other operations, rebuild TensorFlow with the appropriate compiler flags.\n",
      "2023-03-16 22:17:57.533109: I tensorflow/core/common_runtime/process_util.cc:146] Creating new thread pool with default inter op setting: \n"
     ]
    }
   ],
   "source": [
    "model = load_model('./StockVision.h5', compile= False)"
   ]
  },
  {
   "cell_type": "code",
   "execution_count": 5,
   "id": "cbe6aaa7",
   "metadata": {
    "ExecuteTime": {
     "end_time": "2023-03-16T16:47:58.544376Z",
     "start_time": "2023-03-16T16:47:58.340171Z"
    }
   },
   "outputs": [],
   "source": [
    "from sklearn.preprocessing import MinMaxScaler\n",
    "\n",
    "scaler = MinMaxScaler(feature_range=(1,8))\n",
    "points = np.empty((0,2))\n",
    "start_point = -1\n",
    "time_step = 224"
   ]
  },
  {
   "cell_type": "code",
   "execution_count": 6,
   "id": "cf648c6b",
   "metadata": {
    "ExecuteTime": {
     "end_time": "2023-03-16T16:47:58.555226Z",
     "start_time": "2023-03-16T16:47:58.545574Z"
    }
   },
   "outputs": [],
   "source": [
    "def transform(i, final = 0):\n",
    "    global points, start_point\n",
    "    img = cv2.imread(i)\n",
    "    img = cv2.cvtColor(img, cv2.COLOR_BGR2RGB)\n",
    "    hsv = cv2.cvtColor(img, cv2.COLOR_BGR2HSV)\n",
    "    lower_red = np.array([0,50,50])\n",
    "    upper_red = np.array([220,255,255])\n",
    "    mask = cv2.inRange(hsv, lower_red, upper_red)\n",
    "    res = cv2.bitwise_and(img,img, mask= mask)\n",
    "    BWimg = cv2.cvtColor(res, cv2.COLOR_BGR2GRAY)\n",
    "    cntrs, _ = cv2.findContours(BWimg, cv2.RETR_EXTERNAL,cv2.CHAIN_APPROX_NONE)\n",
    "    maxEdge = 0\n",
    "    index = 0\n",
    "    for idx,cntr in enumerate(cntrs):\n",
    "        if len(cntr) > maxEdge:\n",
    "            maxEdge = len(cntr)\n",
    "            index = idx\n",
    "    d = {}\n",
    "    for i in cntrs[index]:\n",
    "        ele = i[0][0]\n",
    "        if ele not in d:\n",
    "            d[ele] = np.empty((0,1))\n",
    "        d[ele] = np.append(d[ele], i[0][1])\n",
    "    l = np.empty((0,2))\n",
    "    for i in d:\n",
    "        l =  np.append(l, np.array( [[ i,min(d[i]) ]]) , axis=0)\n",
    "    if final > 0:\n",
    "      start_point = max(l[:,0]) - time_step\n",
    "    l = scaler.fit_transform(l)\n",
    "    points = np.append(points, l, axis = 0)\n",
    "\n",
    "def dataset(dataset, time_step):\n",
    "    X = []\n",
    "    Y = []\n",
    "    for i in range (len(dataset)-time_step -1):\n",
    "        X.append(dataset[i:(i+time_step)])\n",
    "        Y.append(dataset[i + time_step])\n",
    "    return np.array(X), np.array(Y)"
   ]
  },
  {
   "cell_type": "code",
   "execution_count": 7,
   "id": "2215614d",
   "metadata": {
    "ExecuteTime": {
     "end_time": "2023-03-16T16:47:58.571296Z",
     "start_time": "2023-03-16T16:47:58.556911Z"
    }
   },
   "outputs": [],
   "source": [
    "pred_path = './images/1.png'\n",
    "new_img = cv2.imread(pred_path)"
   ]
  },
  {
   "cell_type": "code",
   "execution_count": 8,
   "id": "0b6ba7f1",
   "metadata": {
    "ExecuteTime": {
     "end_time": "2023-03-16T16:47:58.602518Z",
     "start_time": "2023-03-16T16:47:58.573608Z"
    }
   },
   "outputs": [],
   "source": [
    "points = np.empty((0,2))\n",
    "transform(pred_path, final = 1)\n",
    "\n",
    "corrected_points = points[points[:, 0].argsort()]\n",
    "corrected_points.shape\n",
    "\n",
    "X_pred, Y_pred = dataset(points, time_step=time_step)\n",
    "                                \n",
    "value = corrected_points[:,1]\n",
    "\n",
    "dummy = value.copy()\n",
    "df = pd.DataFrame(dummy, columns=['Price'])"
   ]
  },
  {
   "cell_type": "code",
   "execution_count": 9,
   "id": "35ec7d80",
   "metadata": {
    "ExecuteTime": {
     "end_time": "2023-03-16T16:47:58.607532Z",
     "start_time": "2023-03-16T16:47:58.604150Z"
    }
   },
   "outputs": [],
   "source": [
    "ans = np.array(df.iloc[-time_step:,0])"
   ]
  },
  {
   "cell_type": "code",
   "execution_count": 10,
   "id": "bfd9f090",
   "metadata": {
    "ExecuteTime": {
     "end_time": "2023-03-16T16:48:21.514466Z",
     "start_time": "2023-03-16T16:47:58.610908Z"
    }
   },
   "outputs": [],
   "source": [
    "pred = []\n",
    "while len(pred) < time_step//1.5:\n",
    "    y = model.predict(ans[-time_step:].reshape(1, -1), verbose = 0).flatten()\n",
    "    ans = np.append(ans, y)\n",
    "    pred.append(y)\n",
    "\n",
    "f1 = np.empty((0,2))\n",
    "for idx, val in enumerate(pred):\n",
    "  f1 = np.append(f1, [[idx, val[0]]], axis = 0)\n",
    "pred = scaler.inverse_transform(f1)\n",
    "pred = pred[:,1]\n",
    "pred = np.array( np.round(pred),dtype='int64')"
   ]
  },
  {
   "cell_type": "code",
   "execution_count": 11,
   "id": "8dc276bd",
   "metadata": {
    "ExecuteTime": {
     "end_time": "2023-03-16T16:48:21.521479Z",
     "start_time": "2023-03-16T16:48:21.516667Z"
    }
   },
   "outputs": [],
   "source": [
    "new_points = []\n",
    "x = int(start_point) + time_step\n",
    "for i in pred:\n",
    "    new_points.append([x,i])\n",
    "    x += 1"
   ]
  },
  {
   "cell_type": "code",
   "execution_count": 13,
   "id": "ca77d53a",
   "metadata": {
    "ExecuteTime": {
     "end_time": "2023-03-16T16:48:21.551836Z",
     "start_time": "2023-03-16T16:48:21.532054Z"
    }
   },
   "outputs": [],
   "source": [
    "y0 = scaler.inverse_transform(np.array([0,df['Price'].iloc[-1]]).reshape(1, -1))[0][1]\n",
    "color_pred = {'red': (255, 0, 0), 'green': (0, 255, 0)}\n",
    "color = (127, 127, 127)\n",
    "if pred[-1] < y0:\n",
    "    color = color_pred['green']\n",
    "elif pred[-1] > y0:\n",
    "    color = color_pred['red']"
   ]
  },
  {
   "cell_type": "code",
   "execution_count": 14,
   "id": "5449e90a",
   "metadata": {
    "ExecuteTime": {
     "end_time": "2023-03-16T16:48:21.563812Z",
     "start_time": "2023-03-16T16:48:21.554592Z"
    }
   },
   "outputs": [],
   "source": [
    "prev_point = tuple(new_points[0])\n",
    "\n",
    "begin = np.array([start_point + time_step-2, y0], dtype = int)\n",
    "new_img = cv2.circle(new_img,tuple(begin),1,color,2)\n",
    "new_img = cv2.line(new_img, prev_point, begin, color, 2)\n",
    "jump = 1\n",
    "for x,y in new_points:\n",
    "    new_img = cv2.line(new_img, prev_point, [int(x+jump*2),y], color, 2)\n",
    "    prev_point = [x+int(jump*2),y]\n",
    "    jump += 1"
   ]
  },
  {
   "cell_type": "code",
   "execution_count": 20,
   "id": "85a50716",
   "metadata": {
    "ExecuteTime": {
     "end_time": "2023-03-16T16:48:41.120781Z",
     "start_time": "2023-03-16T16:48:41.050877Z"
    }
   },
   "outputs": [
    {
     "data": {
      "text/plain": [
       "<matplotlib.image.AxesImage at 0x7f778ef7fa90>"
      ]
     },
     "execution_count": 20,
     "metadata": {},
     "output_type": "execute_result"
    },
    {
     "data": {
      "image/png": "[encoded data removed]",
      "text/plain": [
       "<Figure size 640x480 with 1 Axes>"
      ]
     },
     "metadata": {},
     "output_type": "display_data"
    }
   ],
   "source": [
    "plt.axis('off')\n",
    "plt.plot([start_point + time_step-100, 1000], [y0, y0], linestyle = 'dashed')\n",
    "plt.imshow(new_img)"
   ]
  }
 ],
 "metadata": {
  "kernelspec": {
   "display_name": "oneAPI",
   "language": "python",
   "name": "oneapi"
  },
  "language_info": {
   "codemirror_mode": {
    "name": "ipython",
    "version": 3
   },
   "file_extension": ".py",
   "mimetype": "text/x-python",
   "name": "python",
   "nbconvert_exporter": "python",
   "pygments_lexer": "ipython3",
   "version": "3.9.15"
  },
  "varInspector": {
   "cols": {
    "lenName": 16,
    "lenType": 16,
    "lenVar": 40
   },
   "kernels_config": {
    "python": {
     "delete_cmd_postfix": "",
     "delete_cmd_prefix": "del ",
     "library": "var_list.py",
     "varRefreshCmd": "print(var_dic_list())"
    },
    "r": {
     "delete_cmd_postfix": ") ",
     "delete_cmd_prefix": "rm(",
     "library": "var_list.r",
     "varRefreshCmd": "cat(var_dic_list()) "
    }
   },
   "types_to_exclude": [
    "module",
    "function",
    "builtin_function_or_method",
    "instance",
    "_Feature"
   ],
   "window_display": false
  }
 },
 "nbformat": 4,
 "nbformat_minor": 5
}
